{
 "cells": [
  {
   "cell_type": "code",
   "execution_count": 6,
   "id": "57ec1d29",
   "metadata": {},
   "outputs": [],
   "source": [
    "import pandas as pd\n",
    "from sklearn.model_selection import train_test_split\n",
    "from sklearn.linear_model import LinearRegression, LogisticRegression\n",
    "from sklearn.metrics import mean_squared_error, accuracy_score\n",
    "import numpy as np"
   ]
  },
  {
   "cell_type": "code",
   "execution_count": 9,
   "id": "4b235b06",
   "metadata": {},
   "outputs": [],
   "source": [
    "# Load the dataset\n",
    "file_path = 'sample_dataset.csv'\n",
    "df = pd.read_csv('sample_dataset.csv')"
   ]
  },
  {
   "cell_type": "code",
   "execution_count": 10,
   "id": "573b6b18",
   "metadata": {},
   "outputs": [],
   "source": [
    "# Split the data into features (X) and target (Y) for linear and logistic regression\n",
    "X = df[['X1', 'X2']]\n",
    "\n",
    "# For Linear Regression\n",
    "Y_linear = df['Y_linear']\n",
    "X_train_linear, X_test_linear, Y_train_linear, Y_test_linear = train_test_split(X, Y_linear, test_size=0.3, random_state=42)\n",
    "\n",
    "# For Logistic Regression\n",
    "Y_logistic = df['Y_logistic']\n",
    "X_train_logistic, X_test_logistic, Y_train_logistic, Y_test_logistic = train_test_split(X, Y_logistic, test_size=0.3, random_state=42)\n"
   ]
  },
  {
   "cell_type": "code",
   "execution_count": 11,
   "id": "e66195a3",
   "metadata": {},
   "outputs": [],
   "source": [
    "# Step 2: Linear Regression\n",
    "linear_model = LinearRegression()\n",
    "linear_model.fit(X_train_linear, Y_train_linear)\n",
    "Y_pred_linear = linear_model.predict(X_test_linear)\n",
    "linear_mse = mean_squared_error(Y_test_linear, Y_pred_linear)\n",
    "linear_model_coefficients = linear_model.coef_\n",
    "linear_model_intercept = linear_model.intercept_"
   ]
  },
  {
   "cell_type": "code",
   "execution_count": 12,
   "id": "9025f867",
   "metadata": {},
   "outputs": [],
   "source": [
    "# Step 3: Logistic Regression\n",
    "logistic_model = LogisticRegression()\n",
    "logistic_model.fit(X_train_logistic, Y_train_logistic)\n",
    "Y_pred_logistic = logistic_model.predict(X_test_logistic)\n",
    "logistic_accuracy = accuracy_score(Y_test_logistic, Y_pred_logistic)\n",
    "logistic_model_coefficients = logistic_model.coef_\n",
    "logistic_model_intercept = logistic_model.intercept_"
   ]
  },
  {
   "cell_type": "code",
   "execution_count": 13,
   "id": "00cfe45e",
   "metadata": {},
   "outputs": [
    {
     "name": "stdout",
     "output_type": "stream",
     "text": [
      "Linear Regression Results:\n",
      "Mean Squared Error (MSE): 20.931730709405475\n",
      "Coefficients: [1.91465205 3.21023024]\n",
      "Intercept: -1.3937253861123509\n",
      "\n"
     ]
    }
   ],
   "source": [
    "# Print Results\n",
    "print(\"Linear Regression Results:\")\n",
    "print(f\"Mean Squared Error (MSE): {linear_mse}\")\n",
    "print(f\"Coefficients: {linear_model_coefficients}\")\n",
    "print(f\"Intercept: {linear_model_intercept}\\n\")"
   ]
  },
  {
   "cell_type": "code",
   "execution_count": 14,
   "id": "c2bf9856",
   "metadata": {},
   "outputs": [
    {
     "name": "stdout",
     "output_type": "stream",
     "text": [
      "Logistic Regression Results:\n",
      "Accuracy: 0.9333333333333333\n",
      "Coefficients: [[1.21504682 1.33237161]]\n",
      "Intercept: [-19.3139958]\n"
     ]
    }
   ],
   "source": [
    "print(\"Logistic Regression Results:\")\n",
    "print(f\"Accuracy: {logistic_accuracy}\")\n",
    "print(f\"Coefficients: {logistic_model_coefficients}\")\n",
    "print(f\"Intercept: {logistic_model_intercept}\")"
   ]
  },
  {
   "cell_type": "code",
   "execution_count": null,
   "id": "d20923bc",
   "metadata": {},
   "outputs": [],
   "source": []
  }
 ],
 "metadata": {
  "kernelspec": {
   "display_name": "Python 3 (ipykernel)",
   "language": "python",
   "name": "python3"
  },
  "language_info": {
   "codemirror_mode": {
    "name": "ipython",
    "version": 3
   },
   "file_extension": ".py",
   "mimetype": "text/x-python",
   "name": "python",
   "nbconvert_exporter": "python",
   "pygments_lexer": "ipython3",
   "version": "3.11.5"
  }
 },
 "nbformat": 4,
 "nbformat_minor": 5
}
